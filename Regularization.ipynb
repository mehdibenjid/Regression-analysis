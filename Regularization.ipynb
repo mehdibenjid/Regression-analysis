{
 "cells": [
  {
   "cell_type": "markdown",
   "metadata": {},
   "source": [
    "# Regularization Techniques: Ridge, Lasso, and Elastic Net\n",
    "\n",
    "Regularization techniques are essential tools in regression to manage overfitting, which occurs when a model becomes too complex and fits the noise in the training data, leading to poor generalization on new data. By adding a penalty term to the loss function, regularization discourages large model coefficients, simplifying the model and improving its ability to generalize. Below, we explore three popular regularization techniques: **Ridge**, **Lasso**, and **Elastic Net**.\n",
    "\n",
    "## 1. Ridge Regression (L2 Regularization)\n",
    "\n",
    "### Overview\n",
    "Ridge regression, also known as L2 regularization, penalizes the sum of the squared coefficients. This forces the model to favor smaller coefficients, shrinking the less important feature coefficients closer to zero, but not eliminating them entirely. Ridge is particularly useful when all features are potentially relevant, but their contributions vary in magnitude.\n",
    "\n",
    "### Loss Function\n",
    "$$\n",
    "\\text{Loss} = \\sum_{i=1}^{n} (y_i - \\hat{y}_i)^2 + \\lambda \\sum_{j=1}^{p} \\beta_j^2\n",
    "$$\n",
    "\n",
    "Where:\n",
    "- $y_i$ are the actual values,\n",
    "- $\\hat{y}_i$ are the predicted values,\n",
    "- $\\beta_j$ are the model coefficients,\n",
    "- $\\lambda$ is the regularization strength (larger values of $\\lambda$ mean more regularization).\n",
    "\n",
    "### Key Points\n",
    "- **Effect on coefficients**: Shrinks all coefficients but retains all features.\n",
    "- **Use case**: When you expect most features to contribute to the outcome but to varying degrees.\n",
    "- **Limitation**: Does not perform feature selection as all coefficients are reduced but none become zero.\n",
    "\n",
    "---\n",
    "\n",
    "## 2. Lasso Regression (L1 Regularization)\n",
    "\n",
    "### Overview\n",
    "Lasso regression, also known as L1 regularization, adds a penalty equal to the absolute value of the coefficients. Unlike Ridge, Lasso can shrink some coefficients all the way to zero, effectively removing them from the model. This makes Lasso a powerful tool for **feature selection**.\n",
    "\n",
    "### Loss Function\n",
    "$$\n",
    "\\text{Loss} = \\sum_{i=1}^{n} (y_i - \\hat{y}_i)^2 + \\lambda \\sum_{j=1}^{p} |\\beta_j|\n",
    "$$\n",
    "\n",
    "Where:\n",
    "- $y_i$ are the actual values,\n",
    "- $\\hat{y}_i$ are the predicted values,\n",
    "- $\\beta_j$ are the model coefficients,\n",
    "- $\\lambda$ is the regularization strength.\n",
    "\n",
    "### Key Points\n",
    "- **Effect on coefficients**: Shrinks some coefficients to zero, effectively performing feature selection.\n",
    "- **Use case**: When you believe that only a subset of the features are truly relevant.\n",
    "- **Limitation**: May perform poorly when many features are correlated since Lasso tends to pick one feature and ignore others.\n",
    "\n",
    "---\n",
    "\n",
    "## 3. Elastic Net Regression (Combination of L1 and L2)\n",
    "\n",
    "### Overview\n",
    "Elastic Net combines the penalties of both Ridge (L2) and Lasso (L1) regression, offering a compromise between the two. Elastic Net is particularly useful when there are multiple correlated features, as it allows for both **shrinkage** (like Ridge) and **feature selection** (like Lasso). It introduces a mixing parameter, $\\alpha$, to balance between L1 and L2 penalties.\n",
    "\n",
    "### Loss Function\n",
    "$$\n",
    "\\text{Loss} = \\sum_{i=1}^{n} (y_i - \\hat{y}_i)^2 + \\lambda \\left( \\alpha \\sum_{j=1}^{p} |\\beta_j| + (1-\\alpha) \\sum_{j=1}^{p} \\beta_j^2 \\right)\n",
    "$$\n",
    "\n",
    "Where:\n",
    "- $y_i$ are the actual values,\n",
    "- $\\hat{y}_i$ are the predicted values,\n",
    "- $\\beta_j$ are the model coefficients,\n",
    "- $\\lambda$ is the overall regularization strength,\n",
    "- $\\alpha$ controls the balance between L1 (Lasso) and L2 (Ridge) penalties.\n",
    "\n",
    "### Key Points\n",
    "- **Effect on coefficients**: Balances between Ridge’s shrinkage and Lasso’s feature selection.\n",
    "- **Use case**: When you have a mix of important and irrelevant features, or when features are correlated.\n",
    "- **Limitation**: Adds an extra hyperparameter ($\\alpha$) to tune, making the model more complex to optimize.\n",
    "\n",
    "---\n",
    "\n",
    "## Conclusion\n",
    "\n",
    "- **Ridge Regression** is ideal when all features contribute to the model, but their influence needs to be constrained.\n",
    "- **Lasso Regression** is valuable when you want a sparse model, as it can shrink some feature coefficients to zero, performing feature selection.\n",
    "- **Elastic Net Regression** combines the strengths of Ridge and Lasso, making it suitable when you need both regularization and feature selection, especially when features are correlated.\n",
    "\n",
    "By using these regularization techniques, you can control overfitting and build models that generalize better to new, unseen data.\n"
   ]
  },
  {
   "cell_type": "code",
   "execution_count": 1,
   "metadata": {},
   "outputs": [],
   "source": [
    "import numpy as np\n",
    "import pandas as pd\n",
    "import matplotlib.pyplot as plt\n",
    "from sklearn.model_selection import train_test_split\n",
    "from sklearn.linear_model import LinearRegression, Ridge, Lasso, ElasticNet\n",
    "from sklearn.preprocessing import PolynomialFeatures\n",
    "from sklearn.metrics import r2_score, mean_squared_error\n"
   ]
  },
  {
   "cell_type": "code",
   "execution_count": 8,
   "metadata": {},
   "outputs": [],
   "source": [
    "X = np.linspace(0, 5, 100).reshape(-1, 1)\n",
    "y = -5*X + X**2 + np.random.normal(0, 0.5, X.shape[0]).reshape(-1, 1)"
   ]
  },
  {
   "cell_type": "code",
   "execution_count": 9,
   "metadata": {},
   "outputs": [
    {
     "data": {
      "text/plain": [
       "<matplotlib.collections.PathCollection at 0x217b44bd760>"
      ]
     },
     "execution_count": 9,
     "metadata": {},
     "output_type": "execute_result"
    },
    {
     "data": {
      "image/png": "[encoded data removed]",
      "text/plain": [
       "<Figure size 640x480 with 1 Axes>"
      ]
     },
     "metadata": {},
     "output_type": "display_data"
    }
   ],
   "source": [
    "plt.scatter(X, y)"
   ]
  },
  {
   "cell_type": "markdown",
   "metadata": {},
   "source": [
    "## Linear Regression\n",
    "Let's start with linear regression to see how well it fits the data."
   ]
  },
  {
   "cell_type": "code",
   "execution_count": 10,
   "metadata": {},
   "outputs": [
    {
     "name": "stdout",
     "output_type": "stream",
     "text": [
      "Linear Regression:\n",
      "Training R-squared: 0.0012, Training MSE: 3.6764\n",
      "Testing R-squared: -0.0349, Testing MSE: 3.8937\n"
     ]
    }
   ],
   "source": [
    "# Split the data into training and testing sets\n",
    "X_train, X_test, y_train, y_test = train_test_split(X, y, test_size=0.2, random_state=0)\n",
    "\n",
    "# Create and fit the linear regression model\n",
    "linear_model = LinearRegression()\n",
    "linear_model.fit(X_train, y_train)\n",
    "\n",
    "# Make predictions on training and testing data\n",
    "y_train_pred = linear_model.predict(X_train)\n",
    "y_test_pred = linear_model.predict(X_test)\n",
    "\n",
    "# Calculate R-squared and mean squared error for evaluation\n",
    "linear_r2_train = r2_score(y_train, y_train_pred)\n",
    "linear_r2_test = r2_score(y_test, y_test_pred)\n",
    "linear_mse_train = mean_squared_error(y_train, y_train_pred)\n",
    "linear_mse_test = mean_squared_error(y_test, y_test_pred)\n",
    "\n",
    "print(f\"Linear Regression:\")\n",
    "print(f\"Training R-squared: {linear_r2_train:.4f}, Training MSE: {linear_mse_train:.4f}\")\n",
    "print(f\"Testing R-squared: {linear_r2_test:.4f}, Testing MSE: {linear_mse_test:.4f}\")\n"
   ]
  },
  {
   "cell_type": "markdown",
   "metadata": {},
   "source": [
    "## Polynomial Regression with Degree of 2\n",
    "Now, let's perform polynomial regression with a degree of 2 to capture more complex relationships in the data."
   ]
  },
  {
   "cell_type": "code",
   "execution_count": 11,
   "metadata": {},
   "outputs": [
    {
     "name": "stdout",
     "output_type": "stream",
     "text": [
      "\n",
      "Polynomial Regression (Degree 2):\n",
      "Training R-squared: 0.9447, Training MSE: 0.2036\n",
      "Testing R-squared: 0.9473, Testing MSE: 0.1982\n"
     ]
    }
   ],
   "source": [
    "# Transform the features to include polynomial features of degree 2\n",
    "poly = PolynomialFeatures(degree=2)\n",
    "X_poly = poly.fit_transform(X)\n",
    "\n",
    "# Split the polynomial features into training and testing sets\n",
    "X_poly_train, X_poly_test, y_train, y_test = train_test_split(X_poly, y, test_size=0.2, random_state=0)\n",
    "\n",
    "# Create and fit the polynomial regression model\n",
    "poly_model = LinearRegression()\n",
    "poly_model.fit(X_poly_train, y_train)\n",
    "\n",
    "# Make predictions on training and testing data\n",
    "y_train_pred_poly = poly_model.predict(X_poly_train)\n",
    "y_test_pred_poly = poly_model.predict(X_poly_test)\n",
    "\n",
    "# Calculate R-squared and mean squared error for evaluation\n",
    "poly_r2_train = r2_score(y_train, y_train_pred_poly)\n",
    "poly_r2_test = r2_score(y_test, y_test_pred_poly)\n",
    "poly_mse_train = mean_squared_error(y_train, y_train_pred_poly)\n",
    "poly_mse_test = mean_squared_error(y_test, y_test_pred_poly)\n",
    "\n",
    "print(f\"\\nPolynomial Regression (Degree 2):\")\n",
    "print(f\"Training R-squared: {poly_r2_train:.4f}, Training MSE: {poly_mse_train:.4f}\")\n",
    "print(f\"Testing R-squared: {poly_r2_test:.4f}, Testing MSE: {poly_mse_test:.4f}\")"
   ]
  },
  {
   "cell_type": "markdown",
   "metadata": {},
   "source": [
    "## Polynomial Regression with higher Degree\n",
    "Next, let's perform polynomial regression with a higher degree to observe overfitting. The training result is better than the testing result."
   ]
  },
  {
   "cell_type": "code",
   "execution_count": 12,
   "metadata": {},
   "outputs": [
    {
     "name": "stdout",
     "output_type": "stream",
     "text": [
      "\n",
      "Polynomial Regression (Degree 21):\n",
      "Training R-squared: 0.9543, Training MSE: 0.1682\n",
      "Testing R-squared: 0.9288, Testing MSE: 0.2680\n"
     ]
    }
   ],
   "source": [
    "# Transform the features to include polynomial features of higher\n",
    "degree = 21\n",
    "poly_high_degree = PolynomialFeatures(degree=degree)\n",
    "X_poly_high_degree = poly_high_degree.fit_transform(X)\n",
    "\n",
    "# Split the high-degree polynomial features into training and testing sets\n",
    "X_poly_high_degree_train, X_poly_high_degree_test, y_train, y_test = train_test_split(\n",
    "    X_poly_high_degree, y, test_size=0.2, random_state=0)\n",
    "\n",
    "# Create and fit the high-degree polynomial regression model\n",
    "poly_model_high_degree = LinearRegression()\n",
    "poly_model_high_degree.fit(X_poly_high_degree_train, y_train)\n",
    "\n",
    "# Make predictions on training and testing data\n",
    "y_train_pred_high_degree = poly_model_high_degree.predict(X_poly_high_degree_train)\n",
    "y_test_pred_high_degree = poly_model_high_degree.predict(X_poly_high_degree_test)\n",
    "\n",
    "# Calculate R-squared and mean squared error for evaluation\n",
    "poly_r2_train_high_degree = r2_score(y_train, y_train_pred_high_degree)\n",
    "poly_r2_test_high_degree = r2_score(y_test, y_test_pred_high_degree)\n",
    "poly_mse_train_high_degree = mean_squared_error(y_train, y_train_pred_high_degree)\n",
    "poly_mse_test_high_degree = mean_squared_error(y_test, y_test_pred_high_degree)\n",
    "\n",
    "print(f\"\\nPolynomial Regression (Degree {degree}):\")\n",
    "print(f\"Training R-squared: {poly_r2_train_high_degree:.4f}, Training MSE: {poly_mse_train_high_degree:.4f}\")\n",
    "print(f\"Testing R-squared: {poly_r2_test_high_degree:.4f}, Testing MSE: {poly_mse_test_high_degree:.4f}\")\n"
   ]
  },
  {
   "cell_type": "markdown",
   "metadata": {},
   "source": [
    "## Regularization (Ridge, Lasso, Elastic Net)\n",
    "Finally, let's introduce regularization techniques to mitigate overfitting in the high-degree polynomial regression."
   ]
  },
  {
   "cell_type": "code",
   "execution_count": null,
   "metadata": {},
   "outputs": [],
   "source": []
  },
  {
   "cell_type": "code",
   "execution_count": 13,
   "metadata": {},
   "outputs": [
    {
     "name": "stdout",
     "output_type": "stream",
     "text": [
      "\n",
      "Regularization:\n",
      "Ridge Regression - Training R-squared: 0.9556, Testing R-squared: 0.9293\n",
      "Lasso Regression - Training R-squared: 0.9473, Testing R-squared: 0.9442\n",
      "ElasticNet Regression - Training R-squared: 0.9472, Testing R-squared: 0.9434\n"
     ]
    },
    {
     "name": "stderr",
     "output_type": "stream",
     "text": [
      "d:\\anaconda\\envs\\venv\\Lib\\site-packages\\sklearn\\linear_model\\_coordinate_descent.py:697: ConvergenceWarning: Objective did not converge. You might want to increase the number of iterations, check the scale of the features or consider increasing regularisation. Duality gap: 8.231e+00, tolerance: 2.945e-02\n",
      "  model = cd_fast.enet_coordinate_descent(\n",
      "d:\\anaconda\\envs\\venv\\Lib\\site-packages\\sklearn\\linear_model\\_coordinate_descent.py:697: ConvergenceWarning: Objective did not converge. You might want to increase the number of iterations, check the scale of the features or consider increasing regularisation. Duality gap: 8.490e+00, tolerance: 2.945e-02\n",
      "  model = cd_fast.enet_coordinate_descent(\n"
     ]
    }
   ],
   "source": [
    "# Regularization strengths\n",
    "alpha_ridge = 0.001\n",
    "alpha_lasso = 0.001\n",
    "alpha_elasticnet = 0.001\n",
    "l1_ratio_elasticnet = 0.5\n",
    "\n",
    "# Create and fit the Ridge, Lasso, and ElasticNet regression models\n",
    "ridge_model = Ridge(alpha=alpha_ridge)\n",
    "ridge_model.fit(X_poly_high_degree_train, y_train)\n",
    "\n",
    "lasso_model = Lasso(alpha=alpha_lasso)\n",
    "lasso_model.fit(X_poly_high_degree_train, y_train)\n",
    "\n",
    "elasticnet_model = ElasticNet(alpha=alpha_elasticnet, l1_ratio=l1_ratio_elasticnet)\n",
    "elasticnet_model.fit(X_poly_high_degree_train, y_train)\n",
    "\n",
    "# Make predictions on training and testing data for all regularized models\n",
    "y_train_pred_ridge = ridge_model.predict(X_poly_high_degree_train)\n",
    "y_test_pred_ridge = ridge_model.predict(X_poly_high_degree_test)\n",
    "\n",
    "y_train_pred_lasso = lasso_model.predict(X_poly_high_degree_train)\n",
    "y_test_pred_lasso = lasso_model.predict(X_poly_high_degree_test)\n",
    "\n",
    "y_train_pred_elasticnet = elasticnet_model.predict(X_poly_high_degree_train)\n",
    "y_test_pred_elasticnet = elasticnet_model.predict(X_poly_high_degree_test)\n",
    "\n",
    "# Calculate R-squared and mean squared error for evaluation\n",
    "ridge_r2_train = r2_score(y_train, y_train_pred_ridge)\n",
    "ridge_r2_test = r2_score(y_test, y_test_pred_ridge)\n",
    "ridge_mse_train = mean_squared_error(y_train, y_train_pred_ridge)\n",
    "ridge_mse_test = mean_squared_error(y_test, y_test_pred_ridge)\n",
    "\n",
    "lasso_r2_train = r2_score(y_train, y_train_pred_lasso)\n",
    "lasso_r2_test = r2_score(y_test, y_test_pred_lasso)\n",
    "lasso_mse_train = mean_squared_error(y_train, y_train_pred_lasso)\n",
    "lasso_mse_test = mean_squared_error(y_test, y_test_pred_lasso)\n",
    "\n",
    "elasticnet_r2_train = r2_score(y_train, y_train_pred_elasticnet)\n",
    "elasticnet_r2_test = r2_score(y_test, y_test_pred_elasticnet)\n",
    "elasticnet_mse_train = mean_squared_error(y_train, y_train_pred_elasticnet)\n",
    "elasticnet_mse_test = mean_squared_error(y_test, y_test_pred_elasticnet)\n",
    "\n",
    "print(\"\\nRegularization:\")\n",
    "print(f\"Ridge Regression - Training R-squared: {ridge_r2_train:.4f}, Testing R-squared: {ridge_r2_test:.4f}\")\n",
    "print(f\"Lasso Regression - Training R-squared: {lasso_r2_train:.4f}, Testing R-squared: {lasso_r2_test:.4f}\")\n",
    "print(f\"ElasticNet Regression - Training R-squared: {elasticnet_r2_train:.4f}, Testing R-squared: {elasticnet_r2_test:.4f}\")\n"
   ]
  },
  {
   "cell_type": "code",
   "execution_count": null,
   "metadata": {},
   "outputs": [],
   "source": []
  }
 ],
 "metadata": {
  "kernelspec": {
   "display_name": "venv",
   "language": "python",
   "name": "python3"
  },
  "language_info": {
   "codemirror_mode": {
    "name": "ipython",
    "version": 3
   },
   "file_extension": ".py",
   "mimetype": "text/x-python",
   "name": "python",
   "nbconvert_exporter": "python",
   "pygments_lexer": "ipython3",
   "version": "3.12.4"
  }
 },
 "nbformat": 4,
 "nbformat_minor": 2
}
